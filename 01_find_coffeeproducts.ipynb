{
 "cells": [
  {
   "cell_type": "code",
   "execution_count": null,
   "metadata": {},
   "outputs": [],
   "source": [
    "import os\n",
    "import numpy as np\n",
    "import pandas as pd\n",
    "import matplotlib.pyplot as plt\n",
    "from utils import add_delimiters"
   ]
  },
  {
   "cell_type": "code",
   "execution_count": null,
   "metadata": {},
   "outputs": [],
   "source": [
    "products = []\n",
    "\n",
    "years = [\"2021\", \"2022\"]\n",
    "months = [\"01jan\", \"02feb\", \"03mar\", \"04apr\", \"05may\", \"06jun\", \"07jul\", \"08aug\", \"09sep\", \"10oct\", \"11nov\", \"12dec\"]\n",
    "\n",
    "for year in years:\n",
    "    for month in months:\n",
    "        data_dir = os.path.join('raw_data', year, month)\n",
    "        data_names = os.listdir(data_dir)\n",
    "        for day_file in data_names:\n",
    "            df = pd.read_csv(add_delimiters(os.path.join(data_dir, day_file), delimiter=';'), sep=';', encoding=\"utf-8\")\n",
    "\n",
    "            index = df.index[df.eq(\"Produkte\").any(1)][0]\n",
    "\n",
    "            todrop_rows = list(range(index + 1))\n",
    "            df = df.drop(todrop_rows)\n",
    "\n",
    "            todrop_columns = list(df.columns[4:])\n",
    "            df = df.drop(columns = todrop_columns)\n",
    "            df = df.drop(columns = df.columns[1])\n",
    "            df = df.dropna()\n",
    "\n",
    "            df = df.reset_index(drop = True)\n",
    "\n",
    "            df.columns = ['Product', 'Count', 'Sales']\n",
    "\n",
    "            for product in df['Product']:\n",
    "                if product in products:\n",
    "                    continue\n",
    "                else:\n",
    "                    products.append(product)\n",
    "\n",
    "products\n",
    "  "
   ]
  },
  {
   "cell_type": "code",
   "execution_count": null,
   "metadata": {},
   "outputs": [],
   "source": [
    "# Save Productlist to File\n",
    "\n",
    "file = open('products.txt','w', encoding=\"utf-8\")\n",
    "for product in products:\n",
    "\tfile.write(product+\"\\n\")\n",
    "file.close()"
   ]
  }
 ],
 "metadata": {
  "kernelspec": {
   "display_name": "Python 3.7.10 ('PytorchGeometric')",
   "language": "python",
   "name": "python3"
  },
  "language_info": {
   "codemirror_mode": {
    "name": "ipython",
    "version": 3
   },
   "file_extension": ".py",
   "mimetype": "text/x-python",
   "name": "python",
   "nbconvert_exporter": "python",
   "pygments_lexer": "ipython3",
   "version": "3.7.10"
  },
  "orig_nbformat": 4,
  "vscode": {
   "interpreter": {
    "hash": "b264b2ac6437c9bf059af297d6e83aaee783728e002e0b2ed5d328e2da20d4ac"
   }
  }
 },
 "nbformat": 4,
 "nbformat_minor": 2
}
