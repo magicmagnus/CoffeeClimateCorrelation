{
 "cells": [
  {
   "cell_type": "markdown",
   "metadata": {},
   "source": [
    "#### Define the relevant weather variables"
   ]
  },
  {
   "cell_type": "code",
   "execution_count": 1,
   "metadata": {},
   "outputs": [],
   "source": [
    "weather_vaiables = {\"precipitation\": \"RR\", \n",
    "            \"temperature_mean\": \"TG\", \n",
    "            \"temperature_max\": \"TX\",\n",
    "            \"temperature_min\": \"TN\",\n",
    "            \"sunshine_duration\": \"SS\",\n",
    "            \"cloud_cover\": \"CC\",\n",
    "            \"wind_speed\": \"FG\",\n",
    "            \"humidity\": \"HU\",\n",
    "            \"pressure\": \"PP\",\n",
    "            \"snow_depth\": \"SD\",\n",
    "            \n",
    "}"
   ]
  },
  {
   "cell_type": "code",
   "execution_count": 2,
   "metadata": {},
   "outputs": [
    {
     "name": "stdout",
     "output_type": "stream",
     "text": [
      "<class 'pandas.core.frame.DataFrame'>\n",
      "RangeIndex: 695 entries, 0 to 694\n",
      "Data columns (total 17 columns):\n",
      " #   Column                    Non-Null Count  Dtype         \n",
      "---  ------                    --------------  -----         \n",
      " 0   date                      695 non-null    datetime64[ns]\n",
      " 1   day_of_week               695 non-null    object        \n",
      " 2   month                     695 non-null    object        \n",
      " 3   year                      695 non-null    int64         \n",
      " 4   week_of_year              695 non-null    int64         \n",
      " 5   Getränke_sales            695 non-null    float64       \n",
      " 6   Getränke_count            695 non-null    float64       \n",
      " 7   Speisen_sales             695 non-null    float64       \n",
      " 8   Speisen_count             695 non-null    int64         \n",
      " 9   Sonstiges_sales           695 non-null    float64       \n",
      " 10  Sonstiges_count           695 non-null    int64         \n",
      " 11  Milchmischgetränke_sales  695 non-null    float64       \n",
      " 12  Milchmischgetränke_count  695 non-null    int64         \n",
      " 13  Röstkaffee_sales          695 non-null    float64       \n",
      " 14  Röstkaffee_count          695 non-null    int64         \n",
      " 15  Kaffee_sales              695 non-null    float64       \n",
      " 16  Kaffee_count              695 non-null    int64         \n",
      "dtypes: datetime64[ns](1), float64(7), int64(7), object(2)\n",
      "memory usage: 92.4+ KB\n"
     ]
    }
   ],
   "source": [
    "import pandas as pd\n",
    "\n",
    "# load the sales dataframe created in the previous load_salesdata notebook\n",
    "sales = pd.read_csv(\"processed_data/sales_suedhang_2021_2022.csv\", parse_dates=True)\n",
    "sales[\"date\"] = pd.to_datetime(sales[\"date\"])\n",
    "sales.info()"
   ]
  },
  {
   "cell_type": "code",
   "execution_count": 3,
   "metadata": {},
   "outputs": [],
   "source": [
    "# create a copy of sales \n",
    "sales_and_weather = sales.copy()\n",
    "# do the same for all variables and join them into one dataframe by date\n",
    "for variable, code in weather_vaiables.items():\n",
    "    # load the weatherdata from the raw_weatherdata folder\n",
    "    weatherdata_variable = pd.read_csv(f\"raw_weatherdata\\{code}_STAID002763.txt\", sep=\",\", skiprows=19, parse_dates=True)\n",
    "    \n",
    "    # clean the data, drop unnecessary columns, rename columns, \n",
    "    # convert date to datetime format, drop all dates before 2020-01-01, \n",
    "    # drop all rows with missing values and drop the quality column\n",
    "    weatherdata_variable.columns = weatherdata_variable.columns.str.strip()\n",
    "    weatherdata_variable.drop(columns=[\"SOUID\"], inplace=True)\n",
    "    weatherdata_variable.rename(columns={\"DATE\": \"date\"}, inplace=True)\n",
    "    weatherdata_variable[\"date\"] = pd.to_datetime(weatherdata_variable[\"date\"], format=\"%Y%m%d\")\n",
    "    weatherdata_variable = weatherdata_variable[weatherdata_variable[\"date\"] >= \"2020-01-01\"]\n",
    "    weatherdata_variable.dropna(inplace=True)\n",
    "    weatherdata_variable = weatherdata_variable[weatherdata_variable[f\"Q_{code}\"] == 0]\n",
    "    weatherdata_variable = weatherdata_variable[[\"date\", code]]\n",
    "\n",
    "    # merge the weatherdata into the sales dataframe\n",
    "    sales_and_weather = sales_and_weather.merge(weatherdata_variable, on=\"date\", how=\"left\")\n",
    "    sales_and_weather.rename(columns={code: variable}, inplace=True)\n",
    "\n",
    "sales_and_weather.to_csv(\"processed_data/sales_and_weather.csv\", index=False)"
   ]
  },
  {
   "cell_type": "code",
   "execution_count": 4,
   "metadata": {},
   "outputs": [
    {
     "name": "stdout",
     "output_type": "stream",
     "text": [
      "<class 'pandas.core.frame.DataFrame'>\n",
      "Int64Index: 695 entries, 0 to 694\n",
      "Data columns (total 27 columns):\n",
      " #   Column                    Non-Null Count  Dtype         \n",
      "---  ------                    --------------  -----         \n",
      " 0   date                      695 non-null    datetime64[ns]\n",
      " 1   day_of_week               695 non-null    object        \n",
      " 2   month                     695 non-null    object        \n",
      " 3   year                      695 non-null    int64         \n",
      " 4   week_of_year              695 non-null    int64         \n",
      " 5   Getränke_sales            695 non-null    float64       \n",
      " 6   Getränke_count            695 non-null    float64       \n",
      " 7   Speisen_sales             695 non-null    float64       \n",
      " 8   Speisen_count             695 non-null    int64         \n",
      " 9   Sonstiges_sales           695 non-null    float64       \n",
      " 10  Sonstiges_count           695 non-null    int64         \n",
      " 11  Milchmischgetränke_sales  695 non-null    float64       \n",
      " 12  Milchmischgetränke_count  695 non-null    int64         \n",
      " 13  Röstkaffee_sales          695 non-null    float64       \n",
      " 14  Röstkaffee_count          695 non-null    int64         \n",
      " 15  Kaffee_sales              695 non-null    float64       \n",
      " 16  Kaffee_count              695 non-null    int64         \n",
      " 17  precipitation             617 non-null    float64       \n",
      " 18  temperature_mean          649 non-null    float64       \n",
      " 19  temperature_max           649 non-null    float64       \n",
      " 20  temperature_min           649 non-null    float64       \n",
      " 21  sunshine_duration         649 non-null    float64       \n",
      " 22  cloud_cover               497 non-null    float64       \n",
      " 23  wind_speed                647 non-null    float64       \n",
      " 24  humidity                  649 non-null    float64       \n",
      " 25  pressure                  649 non-null    float64       \n",
      " 26  snow_depth                370 non-null    float64       \n",
      "dtypes: datetime64[ns](1), float64(17), int64(7), object(2)\n",
      "memory usage: 152.0+ KB\n"
     ]
    }
   ],
   "source": [
    "sales_and_weather.info()"
   ]
  },
  {
   "cell_type": "code",
   "execution_count": 6,
   "metadata": {},
   "outputs": [
    {
     "name": "stdout",
     "output_type": "stream",
     "text": [
      "<class 'pandas.core.frame.DataFrame'>\n",
      "Int64Index: 334 entries, 0 to 458\n",
      "Data columns (total 37 columns):\n",
      " #   Column                    Non-Null Count  Dtype         \n",
      "---  ------                    --------------  -----         \n",
      " 0   date                      334 non-null    datetime64[ns]\n",
      " 1   day_of_week               334 non-null    object        \n",
      " 2   month                     334 non-null    object        \n",
      " 3   year                      334 non-null    int64         \n",
      " 4   week_of_year              334 non-null    int64         \n",
      " 5   Getränke_sales            334 non-null    float64       \n",
      " 6   Getränke_count            334 non-null    int64         \n",
      " 7   Speisen_sales             334 non-null    float64       \n",
      " 8   Speisen_count             334 non-null    int64         \n",
      " 9   Sonstiges_sales           334 non-null    float64       \n",
      " 10  Sonstiges_count           334 non-null    int64         \n",
      " 11  Milchmischgetränke_sales  334 non-null    int64         \n",
      " 12  Milchmischgetränke_count  334 non-null    int64         \n",
      " 13  Hafer_sales               334 non-null    int64         \n",
      " 14  Hafer_count               334 non-null    int64         \n",
      " 15  Röstkaffee_sales          334 non-null    int64         \n",
      " 16  Röstkaffee_count          334 non-null    int64         \n",
      " 17  Kaffee_sales              334 non-null    int64         \n",
      " 18  Kaffee_count              334 non-null    int64         \n",
      " 19  Non Kaffee_sales          334 non-null    int64         \n",
      " 20  Non Kaffee_count          334 non-null    int64         \n",
      " 21  Equipment__sales          334 non-null    int64         \n",
      " 22  Equipment__count          334 non-null    int64         \n",
      " 23  Summer_sales              334 non-null    int64         \n",
      " 24  Summer_count              334 non-null    int64         \n",
      " 25  Decaf_sales               334 non-null    int64         \n",
      " 26  Decaf_count               334 non-null    int64         \n",
      " 27  precipitation             334 non-null    float64       \n",
      " 28  temperature_mean          334 non-null    float64       \n",
      " 29  temperature_max           334 non-null    float64       \n",
      " 30  temperature_min           334 non-null    float64       \n",
      " 31  sunshine_duration         334 non-null    float64       \n",
      " 32  cloud_cover               334 non-null    float64       \n",
      " 33  wind_speed                334 non-null    float64       \n",
      " 34  humidity                  334 non-null    float64       \n",
      " 35  pressure                  334 non-null    float64       \n",
      " 36  snow_depth                334 non-null    float64       \n",
      "dtypes: datetime64[ns](1), float64(13), int64(21), object(2)\n",
      "memory usage: 99.2+ KB\n"
     ]
    }
   ],
   "source": [
    "# drop all rows with missing values\n",
    "sales_and_weather = sales_and_weather.dropna()\n",
    "sales_and_weather.info()\n"
   ]
  },
  {
   "cell_type": "code",
   "execution_count": 22,
   "metadata": {},
   "outputs": [],
   "source": []
  },
  {
   "cell_type": "code",
   "execution_count": null,
   "metadata": {},
   "outputs": [],
   "source": []
  }
 ],
 "metadata": {
  "kernelspec": {
   "display_name": "Python 3.7.10 ('PytorchGeometric')",
   "language": "python",
   "name": "python3"
  },
  "language_info": {
   "codemirror_mode": {
    "name": "ipython",
    "version": 3
   },
   "file_extension": ".py",
   "mimetype": "text/x-python",
   "name": "python",
   "nbconvert_exporter": "python",
   "pygments_lexer": "ipython3",
   "version": "3.7.10"
  },
  "orig_nbformat": 4,
  "vscode": {
   "interpreter": {
    "hash": "b264b2ac6437c9bf059af297d6e83aaee783728e002e0b2ed5d328e2da20d4ac"
   }
  }
 },
 "nbformat": 4,
 "nbformat_minor": 2
}
