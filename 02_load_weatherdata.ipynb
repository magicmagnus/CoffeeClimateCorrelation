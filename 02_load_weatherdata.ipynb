{
 "cells": [
  {
   "cell_type": "markdown",
   "metadata": {},
   "source": [
    "# 02: Load the weatherdata"
   ]
  },
  {
   "cell_type": "code",
   "execution_count": 1,
   "metadata": {},
   "outputs": [
    {
     "name": "stdout",
     "output_type": "stream",
     "text": [
      "<class 'pandas.core.frame.DataFrame'>\n",
      "RangeIndex: 687 entries, 0 to 686\n",
      "Columns: 155 entries, date to _count\n",
      "dtypes: datetime64[ns](1), float64(143), int64(9), object(2)\n",
      "memory usage: 832.0+ KB\n"
     ]
    }
   ],
   "source": [
    "import pandas as pd\n",
    "\n",
    "# load the sales dataframe created in the previous load_salesdata notebook\n",
    "sales = pd.read_csv(\"processed_data/sales_2021-2022.csv\", parse_dates=True)\n",
    "sales[\"date\"] = pd.to_datetime(sales[\"date\"])\n",
    "sales.info()"
   ]
  },
  {
   "cell_type": "markdown",
   "metadata": {},
   "source": [
    "#### Define the relevant weather variables and load them into the existing sales dataframe"
   ]
  },
  {
   "cell_type": "code",
   "execution_count": 2,
   "metadata": {},
   "outputs": [],
   "source": [
    "weather_variables = {\"precipitation\": \"RR\", \n",
    "                    \"temperature_mean\": \"TG\", \n",
    "                    \"temperature_max\": \"TX\",\n",
    "                    \"temperature_min\": \"TN\",\n",
    "                    \"sunshine_duration\": \"SS\",\n",
    "                    \"cloud_cover\": \"CC\",\n",
    "                    \"wind_speed\": \"FG\",\n",
    "                    \"humidity\": \"HU\",\n",
    "                    \"pressure\": \"PP\",\n",
    "                    \"snow_depth\": \"SD\"}\n",
    "\n",
    "sales_and_weather = sales.copy()\n",
    "\n",
    "for variable, code in weather_variables.items():\n",
    "    weather_var = pd.read_csv(f\"raw_weatherdata\\{code}_STAID002763.txt\", sep=\",\", skiprows=19, parse_dates=True)\n",
    "    \n",
    "    # clean the data, drop unnecessary columns, rename columns, \n",
    "    # convert date to datetime format, drop all dates before 2020-01-01, \n",
    "    # drop all rows with missing values and drop the quality column\n",
    "    weather_var.columns = weather_var.columns.str.strip()\n",
    "    weather_var.drop(columns=[\"SOUID\"], inplace=True)\n",
    "    weather_var.rename(columns={\"DATE\": \"date\"}, inplace=True)\n",
    "    weather_var[\"date\"] = pd.to_datetime(weather_var[\"date\"], format=\"%Y%m%d\")\n",
    "    weather_var = weather_var[weather_var[\"date\"] >= \"2020-01-01\"]\n",
    "    weather_var.dropna(inplace=True)\n",
    "    weather_var = weather_var[weather_var[f\"Q_{code}\"] == 0]\n",
    "    weather_var = weather_var[[\"date\", code]]\n",
    "\n",
    "    # merge the weatherdata into the sales dataframe\n",
    "    sales_and_weather = sales_and_weather.merge(weather_var, on=\"date\", how=\"left\")\n",
    "    sales_and_weather.rename(columns={code: variable}, inplace=True)\n",
    "\n"
   ]
  },
  {
   "cell_type": "code",
   "execution_count": 3,
   "metadata": {},
   "outputs": [],
   "source": [
    "sales_and_weather.loc[:, 'precipitation'] = sales_and_weather.loc[:, 'precipitation'] / 10 # convert to  1 mm\n",
    "sales_and_weather.loc[:, 'temperature_mean'] = sales_and_weather.loc[:, 'temperature_mean'] / 10 # convert to  1 °C\t\n",
    "sales_and_weather.loc[:, 'temperature_max'] = sales_and_weather.loc[:, 'temperature_max'] / 10 # convert to  1 °C\n",
    "sales_and_weather.loc[:, 'temperature_min'] = sales_and_weather.loc[:, 'temperature_min'] / 10 # convert to  1 °C\n",
    "sales_and_weather.loc[:, 'sunshine_duration'] = sales_and_weather.loc[:, 'sunshine_duration'] / 10 # convert to  1 h\n",
    "sales_and_weather.loc[:, 'wind_speed'] = sales_and_weather.loc[:, 'wind_speed'] / 10 # convert to  1 m/s\n",
    "sales_and_weather.loc[:, 'pressure'] = sales_and_weather.loc[:, 'pressure'] / 10 # convert to  1 hPa"
   ]
  },
  {
   "cell_type": "code",
   "execution_count": 4,
   "metadata": {},
   "outputs": [
    {
     "name": "stdout",
     "output_type": "stream",
     "text": [
      "<class 'pandas.core.frame.DataFrame'>\n",
      "Int64Index: 687 entries, 0 to 686\n",
      "Columns: 165 entries, date to snow_depth\n",
      "dtypes: datetime64[ns](1), float64(153), int64(9), object(2)\n",
      "memory usage: 891.0+ KB\n"
     ]
    }
   ],
   "source": [
    "sales_and_weather.to_csv(\"processed_data/sales_and_weather_2021-2022.csv\", index=False)\n",
    "sales_and_weather.info()"
   ]
  }
 ],
 "metadata": {
  "kernelspec": {
   "display_name": "Python 3 (ipykernel)",
   "language": "python",
   "name": "python3"
  },
  "language_info": {
   "codemirror_mode": {
    "name": "ipython",
    "version": 3
   },
   "file_extension": ".py",
   "mimetype": "text/x-python",
   "name": "python",
   "nbconvert_exporter": "python",
   "pygments_lexer": "ipython3",
   "version": "3.7.10"
  },
  "vscode": {
   "interpreter": {
    "hash": "b264b2ac6437c9bf059af297d6e83aaee783728e002e0b2ed5d328e2da20d4ac"
   }
  }
 },
 "nbformat": 4,
 "nbformat_minor": 2
}
