{
 "cells": [
  {
   "cell_type": "code",
   "execution_count": 16,
   "metadata": {},
   "outputs": [],
   "source": [
    "# download raw data from the web\n",
    "\n",
    "import requests\n",
    "import os\n",
    "import pandas as pd\n",
    "import numpy as np\n",
    "import matplotlib.pyplot as plt\n",
    "\n",
    "import datetime\n",
    "import urllib.request\n",
    "\n",
    "\n",
    "first_part = \"https://my.orderbird.com/reports/csv/day/\" \n",
    "second_part = \"?cookieName=obdownload&cookieValue=b087dc9d-78ee-47a1-d232-ac2f5083c493\"\n",
    "\n",
    "# make a öist of dates to download\n",
    "date_list_jan = pd.date_range(start='2022-01-01', end='2022-01-31').strftime(\"%Y-%m-%d\").tolist()\n",
    "date_list_feb = pd.date_range(start='2022-02-01', end='2022-02-28').strftime(\"%Y-%m-%d\").tolist()\n",
    "date_list_mar = pd.date_range(start='2022-03-01', end='2022-03-31').strftime(\"%Y-%m-%d\").tolist()\n",
    "date_list_apr = pd.date_range(start='2022-04-01', end='2022-04-30').strftime(\"%Y-%m-%d\").tolist()\n",
    "date_list_may = pd.date_range(start='2022-05-01', end='2022-05-31').strftime(\"%Y-%m-%d\").tolist()\n",
    "date_list_jun = pd.date_range(start='2022-06-01', end='2022-06-30').strftime(\"%Y-%m-%d\").tolist()\n",
    "date_list_jul = pd.date_range(start='2022-07-01', end='2022-07-31').strftime(\"%Y-%m-%d\").tolist()\n",
    "date_list_aug = pd.date_range(start='2022-08-01', end='2022-08-31').strftime(\"%Y-%m-%d\").tolist()\n",
    "date_list_sep = pd.date_range(start='2022-09-01', end='2022-09-30').strftime(\"%Y-%m-%d\").tolist()\n",
    "date_list_oct = pd.date_range(start='2022-10-01', end='2022-10-31').strftime(\"%Y-%m-%d\").tolist()\n",
    "date_list_nov = pd.date_range(start='2022-11-01', end='2022-11-30').strftime(\"%Y-%m-%d\").tolist()\n",
    "date_list_dec = pd.date_range(start='2022-12-01', end='2022-12-31').strftime(\"%Y-%m-%d\").tolist()\n",
    "\n",
    "\n",
    "\n",
    "\n",
    "# create list with all the urls\n",
    "def create_url_list(date_list):\n",
    "    url_list = []\n",
    "    for date in date_list:\n",
    "        url_list.append(first_part + date + second_part)\n",
    "    return url_list\n",
    "\n",
    "# save url_list as txt file with the numpy function\n",
    "np.savetxt(\"url_list_jan.txt\", create_url_list(date_list_jan), fmt=\"%s\")\n",
    "np.savetxt(\"url_list_feb.txt\", create_url_list(date_list_feb), fmt=\"%s\")\n",
    "np.savetxt(\"url_list_mar.txt\", create_url_list(date_list_mar), fmt=\"%s\")\n",
    "np.savetxt(\"url_list_apr.txt\", create_url_list(date_list_apr), fmt=\"%s\")\n",
    "np.savetxt(\"url_list_may.txt\", create_url_list(date_list_may), fmt=\"%s\")\n",
    "np.savetxt(\"url_list_jun.txt\", create_url_list(date_list_jun), fmt=\"%s\")\n",
    "np.savetxt(\"url_list_jul.txt\", create_url_list(date_list_jul), fmt=\"%s\")\n",
    "np.savetxt(\"url_list_aug.txt\", create_url_list(date_list_aug), fmt=\"%s\")\n",
    "np.savetxt(\"url_list_sep.txt\", create_url_list(date_list_sep), fmt=\"%s\")\n",
    "np.savetxt(\"url_list_oct.txt\", create_url_list(date_list_oct), fmt=\"%s\")\n",
    "np.savetxt(\"url_list_nov.txt\", create_url_list(date_list_nov), fmt=\"%s\")\n",
    "np.savetxt(\"url_list_dec.txt\", create_url_list(date_list_dec), fmt=\"%s\")\n",
    "\n",
    "\n",
    "#url_list = [create_url_list(date_list_jan) + create_url_list(date_list_feb) + create_url_list(date_list_mar) + create_url_list(date_list_apr) + create_url_list(date_list_may) + create_url_list(date_list_jun) + create_url_list(date_list_jul) + create_url_list(date_list_aug) + create_url_list(date_list_sep) + create_url_list(date_list_oct) + create_url_list(date_list_nov) + create_url_list(date_list_dec)\n",
    "\n",
    "# save url_list as txt file with the numpy function\n",
    "#np.savetxt(\"url_list.txt\", url_list, fmt=\"%s\")"
   ]
  },
  {
   "cell_type": "markdown",
   "metadata": {},
   "source": [
    "# download whole year of 2021 "
   ]
  },
  {
   "cell_type": "code",
   "execution_count": 19,
   "metadata": {},
   "outputs": [],
   "source": [
    "date_list_2021 = pd.date_range(start='2021-01-01', end='2021-12-31').strftime(\"%Y-%m-%d\").tolist()\n",
    "date_list_2020 = pd.date_range(start='2020-01-01', end='2020-12-31').strftime(\"%Y-%m-%d\").tolist()\n",
    "date_list_2019 = pd.date_range(start='2019-01-01', end='2019-12-31').strftime(\"%Y-%m-%d\").tolist()\n",
    "date_list_2018 = pd.date_range(start='2018-01-01', end='2018-12-31').strftime(\"%Y-%m-%d\").tolist()\n",
    "date_list_2017 = pd.date_range(start='2017-01-01', end='2017-12-31').strftime(\"%Y-%m-%d\").tolist()\n",
    "\n",
    "\n",
    "np.savetxt(\"url_list_2021.txt\", create_url_list(date_list_2021), fmt=\"%s\")\n",
    "np.savetxt(\"url_list_2020.txt\", create_url_list(date_list_2020), fmt=\"%s\")  \n",
    "np.savetxt(\"url_list_2019.txt\", create_url_list(date_list_2019), fmt=\"%s\")\n",
    "np.savetxt(\"url_list_2018.txt\", create_url_list(date_list_2018), fmt=\"%s\")\n",
    "np.savetxt(\"url_list_2017.txt\", create_url_list(date_list_2017), fmt=\"%s\")"
   ]
  },
  {
   "cell_type": "code",
   "execution_count": null,
   "metadata": {},
   "outputs": [],
   "source": []
  }
 ],
 "metadata": {
  "kernelspec": {
   "display_name": "Python 3.7.10 ('PytorchGeometric')",
   "language": "python",
   "name": "python3"
  },
  "language_info": {
   "codemirror_mode": {
    "name": "ipython",
    "version": 3
   },
   "file_extension": ".py",
   "mimetype": "text/x-python",
   "name": "python",
   "nbconvert_exporter": "python",
   "pygments_lexer": "ipython3",
   "version": "3.7.10"
  },
  "orig_nbformat": 4,
  "vscode": {
   "interpreter": {
    "hash": "b264b2ac6437c9bf059af297d6e83aaee783728e002e0b2ed5d328e2da20d4ac"
   }
  }
 },
 "nbformat": 4,
 "nbformat_minor": 2
}
